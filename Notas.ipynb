{
  "nbformat": 4,
  "nbformat_minor": 0,
  "metadata": {
    "colab": {
      "name": "Notas.ipynb",
      "version": "0.3.2",
      "provenance": [],
      "toc_visible": true,
      "include_colab_link": true
    },
    "kernelspec": {
      "name": "python3",
      "display_name": "Python 3"
    },
    "accelerator": "GPU"
  },
  "cells": [
    {
      "cell_type": "markdown",
      "metadata": {
        "id": "view-in-github",
        "colab_type": "text"
      },
      "source": [
        "<a href=\"https://colab.research.google.com/github/Glr10/PyTorch-Scholarship-Challenge/blob/master/Notas.ipynb\" target=\"_parent\"><img src=\"https://colab.research.google.com/assets/colab-badge.svg\" alt=\"Open In Colab\"/></a>"
      ]
    },
    {
      "metadata": {
        "id": "0oxo6veB4uF1",
        "colab_type": "text"
      },
      "cell_type": "markdown",
      "source": [
        "# Notas\n",
        "\n",
        "## ¿Qué son los Gists?\n",
        "\n",
        "\n",
        "Es un plataforma para snippets, o lo que es lo mismo, pequeños pedazos de código reusables con una funcionalidad concreta. Estos snippets serían ideales tenerlos en un sitio donde se puedan compartir, almacenar y evitar que se pierdan en el olvido, pero donde crear un repositorio git, parece ser excesivo y sería matar moscas a cañonazos. Para eso existe Gist, una plataforma de GitHub donde podemos gestionar nuestros snippets.\n",
        "\n",
        "Tiene la ventaja al igual que su hermano mayor de disponer de control de versiones, puedes crear Gists tanto públicos como privados, son colaborativos, se pueden hacer forks, comentar, etc.\n",
        "\n",
        "Se han vuelto tan famosos y populares que muchos editores e IDEs, como pueden ser SublimeText o AndroidStudio, incorporan métodos para compartir tu código directamente como Gists.\n",
        "\n",
        "## ¿Para qué sirven?\n",
        "\n",
        "Ya es cosa de cada uno el uso que se le den a estos Gists, pero por nombrar algunos de los más comunes, se puede utilizar como portapapeles en la nube cuando tenemos dudas o errores que compartir, igual que ya comentamos anteriormente para Pastebin evitando de esta manera pegar enormes líneas de código en los comentarios de foros y blogs imposibles de entender.\n",
        "\n",
        "Otro uso importante es para pequeñas librerías. En los círculos de desarrolladores Android es muy común crear CustomViews (que trataremos en otro post más adelante) y ciertamente ahora hay una tendencia enorme a alojarlos y compartirlos en Gists, puesto que suelen ser simplemente conjuntos de tres o cuatro archivos con una extensión de muy escasa de líneas, donde se pueden poner revisiones para mejorar su funcionalidad.\n",
        "\n",
        "Personalmente tengo bastantes CustomViews en mi gists, la mayoría privados puesto que son \"para consumo propio\" y muchos no están lo suficiente pulidos para ser compartidos todavía, pero también tengo algún que otro script casero para facilitar la vida al desarrollador.\n",
        "\n",
        "Como podéis ver, la posibilidades son enormes, son muy cómodos y fáciles de utilizar. El límite lo ponéis vosotros.\n"
      ]
    },
    {
      "metadata": {
        "id": "cYr8el9KNwMc",
        "colab_type": "text"
      },
      "cell_type": "markdown",
      "source": [
        "# Repaso de Python"
      ]
    },
    {
      "metadata": {
        "id": "wPkIRVGTOKlD",
        "colab_type": "text"
      },
      "cell_type": "markdown",
      "source": [
        "[Repaso de Python en google](https://developers.google.com/edu/python/lists)"
      ]
    },
    {
      "metadata": {
        "id": "uy-iPaZ6N5Q2",
        "colab_type": "text"
      },
      "cell_type": "markdown",
      "source": [
        "## While Loop"
      ]
    },
    {
      "metadata": {
        "id": "G55yQkgeMkcd",
        "colab_type": "code",
        "outputId": "701f5d30-61dc-4ee9-9b67-92695de48dbb",
        "colab": {
          "base_uri": "https://localhost:8080/",
          "height": 105
        }
      },
      "cell_type": "code",
      "source": [
        "  ## Access every 3rd element in a list\n",
        "  a=[1,2,4,6,6,6,6,87,7,10]\n",
        "  i = 0\n",
        "  while i < len(a):\n",
        "    print(a[i])\n",
        "    i = i + 3"
      ],
      "execution_count": 17,
      "outputs": [
        {
          "output_type": "stream",
          "text": [
            "1\n",
            "6\n",
            "6\n",
            "10\n"
          ],
          "name": "stdout"
        }
      ]
    },
    {
      "metadata": {
        "id": "2hTRbjxNpfVb",
        "colab_type": "text"
      },
      "cell_type": "markdown",
      "source": [
        "## **Numpy.matmul**"
      ]
    },
    {
      "metadata": {
        "id": "wXS2JrHJtqGk",
        "colab_type": "text"
      },
      "cell_type": "markdown",
      "source": [
        "Matrix product of two arrays."
      ]
    },
    {
      "metadata": {
        "id": "hIWIw157srZm",
        "colab_type": "text"
      },
      "cell_type": "markdown",
      "source": [
        "For 2-D arrays it is the matrix product:"
      ]
    },
    {
      "metadata": {
        "id": "pzJIZIn2qIfv",
        "colab_type": "code",
        "colab": {
          "base_uri": "https://localhost:8080/",
          "height": 51
        },
        "outputId": "c2446d82-0b4c-43a6-d1d5-afb813154dd5"
      },
      "cell_type": "code",
      "source": [
        "import numpy as np\n",
        "\n",
        "a = [[1, 0], [0, 1]]\n",
        "b = [[4, 1], [2, 2]]\n",
        "np.matmul(a, b)"
      ],
      "execution_count": 2,
      "outputs": [
        {
          "output_type": "execute_result",
          "data": {
            "text/plain": [
              "array([[4, 1],\n",
              "       [2, 2]])"
            ]
          },
          "metadata": {
            "tags": []
          },
          "execution_count": 2
        }
      ]
    },
    {
      "metadata": {
        "id": "LgWkyPy7suRI",
        "colab_type": "text"
      },
      "cell_type": "markdown",
      "source": [
        "For 2-D mixed with 1-D, the result is the usual."
      ]
    },
    {
      "metadata": {
        "id": "U45AwXpAtP2R",
        "colab_type": "code",
        "colab": {
          "base_uri": "https://localhost:8080/",
          "height": 34
        },
        "outputId": "509cb03b-47d8-4d5d-dd6c-e19185f3e9aa"
      },
      "cell_type": "code",
      "source": [
        "\n",
        "a = [[1, 0], [0, 1]]\n",
        "b = [1, 2]\n",
        "\n",
        "np.matmul(a, b)\n",
        "\n",
        "np.matmul(b, a)"
      ],
      "execution_count": 3,
      "outputs": [
        {
          "output_type": "execute_result",
          "data": {
            "text/plain": [
              "array([1, 2])"
            ]
          },
          "metadata": {
            "tags": []
          },
          "execution_count": 3
        }
      ]
    },
    {
      "metadata": {
        "id": "5sqfZC2otT36",
        "colab_type": "text"
      },
      "cell_type": "markdown",
      "source": [
        "Broadcasting is conventional for stacks of arrays"
      ]
    },
    {
      "metadata": {
        "id": "Cn_tu5T5tV9Z",
        "colab_type": "code",
        "colab": {
          "base_uri": "https://localhost:8080/",
          "height": 34
        },
        "outputId": "5997f67f-acc2-43a4-c410-2cca30896c32"
      },
      "cell_type": "code",
      "source": [
        "a = np.arange(2*2*4).reshape((2,2,4))\n",
        "b = np.arange(2*2*4).reshape((2,4,2))\n",
        "np.matmul(a,b).shape\n",
        "\n",
        "np.matmul(a,b)[0,1,1]\n",
        "\n",
        "sum(a[0,1,:] * b[0,:,1])"
      ],
      "execution_count": 5,
      "outputs": [
        {
          "output_type": "execute_result",
          "data": {
            "text/plain": [
              "98"
            ]
          },
          "metadata": {
            "tags": []
          },
          "execution_count": 5
        }
      ]
    },
    {
      "metadata": {
        "id": "6B0Wrgbbta8T",
        "colab_type": "text"
      },
      "cell_type": "markdown",
      "source": [
        "Vector, vector returns the scalar inner product, but neither argument is complex-conjugated:"
      ]
    },
    {
      "metadata": {
        "id": "M-Lk1AMwtg2q",
        "colab_type": "code",
        "colab": {
          "base_uri": "https://localhost:8080/",
          "height": 34
        },
        "outputId": "df6b20bd-a131-4e60-ef5d-7b21c28b20ea"
      },
      "cell_type": "code",
      "source": [
        "np.matmul([2j, 3j], [2j, 3j])"
      ],
      "execution_count": 21,
      "outputs": [
        {
          "output_type": "execute_result",
          "data": {
            "text/plain": [
              "(-13+0j)"
            ]
          },
          "metadata": {
            "tags": []
          },
          "execution_count": 21
        }
      ]
    }
  ]
}